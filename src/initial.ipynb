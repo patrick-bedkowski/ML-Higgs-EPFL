{
 "cells": [
  {
   "cell_type": "markdown",
   "metadata": {},
   "source": [
    "# File management"
   ]
  },
  {
   "cell_type": "markdown",
   "metadata": {},
   "source": [
    "Responsible for reading data"
   ]
  },
  {
   "cell_type": "code",
   "execution_count": 1,
   "metadata": {},
   "outputs": [],
   "source": [
    "from file_management import *\n",
    "import pandas as pd"
   ]
  },
  {
   "cell_type": "code",
   "execution_count": 2,
   "outputs": [],
   "source": [
    "ids, predictions, data, features = get_train_higgs_data()"
   ],
   "metadata": {
    "collapsed": false
   }
  },
  {
   "cell_type": "code",
   "execution_count": 6,
   "outputs": [
    {
     "data": {
      "text/plain": "((250000, 1), (250000,), (250000, 30), (30,))"
     },
     "execution_count": 6,
     "metadata": {},
     "output_type": "execute_result"
    }
   ],
   "source": [
    "ids.shape, predictions.shape, data.shape, features.shape"
   ],
   "metadata": {
    "collapsed": false
   }
  },
  {
   "cell_type": "code",
   "execution_count": 8,
   "outputs": [],
   "source": [
    "df = pd.DataFrame(index=ids.flatten(), data=data, columns=features.flatten())"
   ],
   "metadata": {
    "collapsed": false
   }
  },
  {
   "cell_type": "code",
   "execution_count": 9,
   "outputs": [
    {
     "data": {
      "text/plain": "        DER_mass_MMC  DER_mass_transverse_met_lep  DER_mass_vis  DER_pt_h  \\\n100000       138.470                       51.655        97.827    27.980   \n100001       160.937                       68.768       103.235    48.146   \n100002      -999.000                      162.172       125.953    35.635   \n100003       143.905                       81.417        80.943     0.414   \n100004       175.864                       16.915       134.805    16.405   \n...              ...                          ...           ...       ...   \n349995      -999.000                       71.989        36.548     5.042   \n349996      -999.000                       58.179        68.083    22.439   \n349997       105.457                       60.526        75.839    39.757   \n349998        94.951                       19.362        68.812    13.504   \n349999      -999.000                       72.756        70.831     7.479   \n\n        DER_deltaeta_jet_jet  DER_mass_jet_jet  DER_prodeta_jet_jet  \\\n100000                  0.91           124.711                2.666   \n100001               -999.00          -999.000             -999.000   \n100002               -999.00          -999.000             -999.000   \n100003               -999.00          -999.000             -999.000   \n100004               -999.00          -999.000             -999.000   \n...                      ...               ...                  ...   \n349995               -999.00          -999.000             -999.000   \n349996               -999.00          -999.000             -999.000   \n349997               -999.00          -999.000             -999.000   \n349998               -999.00          -999.000             -999.000   \n349999               -999.00          -999.000             -999.000   \n\n        DER_deltar_tau_lep  DER_pt_tot  DER_sum_pt  ...  PRI_met_phi  \\\n100000               3.064      41.928     197.760  ...       -0.277   \n100001               3.473       2.078     125.157  ...       -1.916   \n100002               3.148       9.336     197.814  ...       -2.186   \n100003               3.310       0.414      75.968  ...        0.060   \n100004               3.891      16.405      57.983  ...       -0.871   \n...                    ...         ...         ...  ...          ...   \n349995               1.392       5.042      55.892  ...        2.859   \n349996               2.585      22.439      50.618  ...       -0.867   \n349997               2.390      22.183     120.462  ...       -2.890   \n349998               3.365      13.504      55.859  ...        0.811   \n349999               2.025       7.479      83.240  ...       -1.596   \n\n        PRI_met_sumet  PRI_jet_num  PRI_jet_leading_pt  PRI_jet_leading_eta  \\\n100000        258.733          2.0              67.435                2.150   \n100001        164.546          1.0              46.226                0.725   \n100002        260.414          1.0              44.251                2.053   \n100003         86.062          0.0            -999.000             -999.000   \n100004         53.131          0.0            -999.000             -999.000   \n...               ...          ...                 ...                  ...   \n349995        144.665          0.0            -999.000             -999.000   \n349996         80.408          0.0            -999.000             -999.000   \n349997        198.907          1.0              41.992                1.800   \n349998        112.718          0.0            -999.000             -999.000   \n349999         99.405          0.0            -999.000             -999.000   \n\n        PRI_jet_leading_phi  PRI_jet_subleading_pt  PRI_jet_subleading_eta  \\\n100000                0.444                 46.062                    1.24   \n100001                1.158               -999.000                 -999.00   \n100002               -2.028               -999.000                 -999.00   \n100003             -999.000               -999.000                 -999.00   \n100004             -999.000               -999.000                 -999.00   \n...                     ...                    ...                     ...   \n349995             -999.000               -999.000                 -999.00   \n349996             -999.000               -999.000                 -999.00   \n349997               -0.166               -999.000                 -999.00   \n349998             -999.000               -999.000                 -999.00   \n349999             -999.000               -999.000                 -999.00   \n\n        PRI_jet_subleading_phi  PRI_jet_all_pt  \n100000                  -2.475         113.497  \n100001                -999.000          46.226  \n100002                -999.000          44.251  \n100003                -999.000           0.000  \n100004                -999.000           0.000  \n...                        ...             ...  \n349995                -999.000           0.000  \n349996                -999.000           0.000  \n349997                -999.000          41.992  \n349998                -999.000           0.000  \n349999                -999.000           0.000  \n\n[250000 rows x 30 columns]",
      "text/html": "<div>\n<style scoped>\n    .dataframe tbody tr th:only-of-type {\n        vertical-align: middle;\n    }\n\n    .dataframe tbody tr th {\n        vertical-align: top;\n    }\n\n    .dataframe thead th {\n        text-align: right;\n    }\n</style>\n<table border=\"1\" class=\"dataframe\">\n  <thead>\n    <tr style=\"text-align: right;\">\n      <th></th>\n      <th>DER_mass_MMC</th>\n      <th>DER_mass_transverse_met_lep</th>\n      <th>DER_mass_vis</th>\n      <th>DER_pt_h</th>\n      <th>DER_deltaeta_jet_jet</th>\n      <th>DER_mass_jet_jet</th>\n      <th>DER_prodeta_jet_jet</th>\n      <th>DER_deltar_tau_lep</th>\n      <th>DER_pt_tot</th>\n      <th>DER_sum_pt</th>\n      <th>...</th>\n      <th>PRI_met_phi</th>\n      <th>PRI_met_sumet</th>\n      <th>PRI_jet_num</th>\n      <th>PRI_jet_leading_pt</th>\n      <th>PRI_jet_leading_eta</th>\n      <th>PRI_jet_leading_phi</th>\n      <th>PRI_jet_subleading_pt</th>\n      <th>PRI_jet_subleading_eta</th>\n      <th>PRI_jet_subleading_phi</th>\n      <th>PRI_jet_all_pt</th>\n    </tr>\n  </thead>\n  <tbody>\n    <tr>\n      <th>100000</th>\n      <td>138.470</td>\n      <td>51.655</td>\n      <td>97.827</td>\n      <td>27.980</td>\n      <td>0.91</td>\n      <td>124.711</td>\n      <td>2.666</td>\n      <td>3.064</td>\n      <td>41.928</td>\n      <td>197.760</td>\n      <td>...</td>\n      <td>-0.277</td>\n      <td>258.733</td>\n      <td>2.0</td>\n      <td>67.435</td>\n      <td>2.150</td>\n      <td>0.444</td>\n      <td>46.062</td>\n      <td>1.24</td>\n      <td>-2.475</td>\n      <td>113.497</td>\n    </tr>\n    <tr>\n      <th>100001</th>\n      <td>160.937</td>\n      <td>68.768</td>\n      <td>103.235</td>\n      <td>48.146</td>\n      <td>-999.00</td>\n      <td>-999.000</td>\n      <td>-999.000</td>\n      <td>3.473</td>\n      <td>2.078</td>\n      <td>125.157</td>\n      <td>...</td>\n      <td>-1.916</td>\n      <td>164.546</td>\n      <td>1.0</td>\n      <td>46.226</td>\n      <td>0.725</td>\n      <td>1.158</td>\n      <td>-999.000</td>\n      <td>-999.00</td>\n      <td>-999.000</td>\n      <td>46.226</td>\n    </tr>\n    <tr>\n      <th>100002</th>\n      <td>-999.000</td>\n      <td>162.172</td>\n      <td>125.953</td>\n      <td>35.635</td>\n      <td>-999.00</td>\n      <td>-999.000</td>\n      <td>-999.000</td>\n      <td>3.148</td>\n      <td>9.336</td>\n      <td>197.814</td>\n      <td>...</td>\n      <td>-2.186</td>\n      <td>260.414</td>\n      <td>1.0</td>\n      <td>44.251</td>\n      <td>2.053</td>\n      <td>-2.028</td>\n      <td>-999.000</td>\n      <td>-999.00</td>\n      <td>-999.000</td>\n      <td>44.251</td>\n    </tr>\n    <tr>\n      <th>100003</th>\n      <td>143.905</td>\n      <td>81.417</td>\n      <td>80.943</td>\n      <td>0.414</td>\n      <td>-999.00</td>\n      <td>-999.000</td>\n      <td>-999.000</td>\n      <td>3.310</td>\n      <td>0.414</td>\n      <td>75.968</td>\n      <td>...</td>\n      <td>0.060</td>\n      <td>86.062</td>\n      <td>0.0</td>\n      <td>-999.000</td>\n      <td>-999.000</td>\n      <td>-999.000</td>\n      <td>-999.000</td>\n      <td>-999.00</td>\n      <td>-999.000</td>\n      <td>0.000</td>\n    </tr>\n    <tr>\n      <th>100004</th>\n      <td>175.864</td>\n      <td>16.915</td>\n      <td>134.805</td>\n      <td>16.405</td>\n      <td>-999.00</td>\n      <td>-999.000</td>\n      <td>-999.000</td>\n      <td>3.891</td>\n      <td>16.405</td>\n      <td>57.983</td>\n      <td>...</td>\n      <td>-0.871</td>\n      <td>53.131</td>\n      <td>0.0</td>\n      <td>-999.000</td>\n      <td>-999.000</td>\n      <td>-999.000</td>\n      <td>-999.000</td>\n      <td>-999.00</td>\n      <td>-999.000</td>\n      <td>0.000</td>\n    </tr>\n    <tr>\n      <th>...</th>\n      <td>...</td>\n      <td>...</td>\n      <td>...</td>\n      <td>...</td>\n      <td>...</td>\n      <td>...</td>\n      <td>...</td>\n      <td>...</td>\n      <td>...</td>\n      <td>...</td>\n      <td>...</td>\n      <td>...</td>\n      <td>...</td>\n      <td>...</td>\n      <td>...</td>\n      <td>...</td>\n      <td>...</td>\n      <td>...</td>\n      <td>...</td>\n      <td>...</td>\n      <td>...</td>\n    </tr>\n    <tr>\n      <th>349995</th>\n      <td>-999.000</td>\n      <td>71.989</td>\n      <td>36.548</td>\n      <td>5.042</td>\n      <td>-999.00</td>\n      <td>-999.000</td>\n      <td>-999.000</td>\n      <td>1.392</td>\n      <td>5.042</td>\n      <td>55.892</td>\n      <td>...</td>\n      <td>2.859</td>\n      <td>144.665</td>\n      <td>0.0</td>\n      <td>-999.000</td>\n      <td>-999.000</td>\n      <td>-999.000</td>\n      <td>-999.000</td>\n      <td>-999.00</td>\n      <td>-999.000</td>\n      <td>0.000</td>\n    </tr>\n    <tr>\n      <th>349996</th>\n      <td>-999.000</td>\n      <td>58.179</td>\n      <td>68.083</td>\n      <td>22.439</td>\n      <td>-999.00</td>\n      <td>-999.000</td>\n      <td>-999.000</td>\n      <td>2.585</td>\n      <td>22.439</td>\n      <td>50.618</td>\n      <td>...</td>\n      <td>-0.867</td>\n      <td>80.408</td>\n      <td>0.0</td>\n      <td>-999.000</td>\n      <td>-999.000</td>\n      <td>-999.000</td>\n      <td>-999.000</td>\n      <td>-999.00</td>\n      <td>-999.000</td>\n      <td>0.000</td>\n    </tr>\n    <tr>\n      <th>349997</th>\n      <td>105.457</td>\n      <td>60.526</td>\n      <td>75.839</td>\n      <td>39.757</td>\n      <td>-999.00</td>\n      <td>-999.000</td>\n      <td>-999.000</td>\n      <td>2.390</td>\n      <td>22.183</td>\n      <td>120.462</td>\n      <td>...</td>\n      <td>-2.890</td>\n      <td>198.907</td>\n      <td>1.0</td>\n      <td>41.992</td>\n      <td>1.800</td>\n      <td>-0.166</td>\n      <td>-999.000</td>\n      <td>-999.00</td>\n      <td>-999.000</td>\n      <td>41.992</td>\n    </tr>\n    <tr>\n      <th>349998</th>\n      <td>94.951</td>\n      <td>19.362</td>\n      <td>68.812</td>\n      <td>13.504</td>\n      <td>-999.00</td>\n      <td>-999.000</td>\n      <td>-999.000</td>\n      <td>3.365</td>\n      <td>13.504</td>\n      <td>55.859</td>\n      <td>...</td>\n      <td>0.811</td>\n      <td>112.718</td>\n      <td>0.0</td>\n      <td>-999.000</td>\n      <td>-999.000</td>\n      <td>-999.000</td>\n      <td>-999.000</td>\n      <td>-999.00</td>\n      <td>-999.000</td>\n      <td>0.000</td>\n    </tr>\n    <tr>\n      <th>349999</th>\n      <td>-999.000</td>\n      <td>72.756</td>\n      <td>70.831</td>\n      <td>7.479</td>\n      <td>-999.00</td>\n      <td>-999.000</td>\n      <td>-999.000</td>\n      <td>2.025</td>\n      <td>7.479</td>\n      <td>83.240</td>\n      <td>...</td>\n      <td>-1.596</td>\n      <td>99.405</td>\n      <td>0.0</td>\n      <td>-999.000</td>\n      <td>-999.000</td>\n      <td>-999.000</td>\n      <td>-999.000</td>\n      <td>-999.00</td>\n      <td>-999.000</td>\n      <td>0.000</td>\n    </tr>\n  </tbody>\n</table>\n<p>250000 rows × 30 columns</p>\n</div>"
     },
     "execution_count": 9,
     "metadata": {},
     "output_type": "execute_result"
    }
   ],
   "source": [
    "df"
   ],
   "metadata": {
    "collapsed": false
   }
  }
 ],
 "metadata": {
  "kernelspec": {
   "display_name": "Python 3 (ipykernel)",
   "language": "python",
   "name": "python3"
  },
  "language_info": {
   "codemirror_mode": {
    "name": "ipython",
    "version": 3
   },
   "file_extension": ".py",
   "mimetype": "text/x-python",
   "name": "python",
   "nbconvert_exporter": "python",
   "pygments_lexer": "ipython3",
   "version": "3.8.13"
  }
 },
 "nbformat": 4,
 "nbformat_minor": 1
}
