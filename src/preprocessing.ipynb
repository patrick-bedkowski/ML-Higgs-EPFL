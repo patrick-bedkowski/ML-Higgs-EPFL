{
 "cells": [
  {
   "cell_type": "code",
   "execution_count": 4,
   "metadata": {},
   "outputs": [],
   "source": [
    "from file_management import *\n",
    "from helpers import *\n",
    "import pandas as pd\n",
    "from ridge_reg import *\n",
    "from build_polynomial import *"
   ]
  },
  {
   "cell_type": "code",
   "execution_count": 5,
   "metadata": {},
   "outputs": [
    {
     "data": {
      "text/plain": [
       "((250000, 1), (250000,), (250000, 30), (30,))"
      ]
     },
     "execution_count": 5,
     "metadata": {},
     "output_type": "execute_result"
    }
   ],
   "source": [
    "ids, predictions, data, features = get_train_higgs_data()\n",
    "ids.shape, predictions.shape, data.shape, features.shape"
   ]
  },
  {
   "cell_type": "code",
   "execution_count": 6,
   "metadata": {},
   "outputs": [],
   "source": [
    "#y = pd.Series(predictions)\n",
    "pred = pd.DataFrame(index = ids.flatten(), data = predictions, columns = ['Predictions'])"
   ]
  },
  {
   "cell_type": "code",
   "execution_count": 7,
   "metadata": {},
   "outputs": [],
   "source": [
    "df = pd.DataFrame(index=ids.flatten(), data=data, columns=features.flatten())\n",
    "df_pred = df.join(pred, how = 'inner')"
   ]
  },
  {
   "cell_type": "code",
   "execution_count": 8,
   "metadata": {},
   "outputs": [
    {
     "data": {
      "text/html": [
       "<div>\n",
       "<style scoped>\n",
       "    .dataframe tbody tr th:only-of-type {\n",
       "        vertical-align: middle;\n",
       "    }\n",
       "\n",
       "    .dataframe tbody tr th {\n",
       "        vertical-align: top;\n",
       "    }\n",
       "\n",
       "    .dataframe thead th {\n",
       "        text-align: right;\n",
       "    }\n",
       "</style>\n",
       "<table border=\"1\" class=\"dataframe\">\n",
       "  <thead>\n",
       "    <tr style=\"text-align: right;\">\n",
       "      <th></th>\n",
       "      <th>DER_mass_MMC</th>\n",
       "      <th>DER_mass_transverse_met_lep</th>\n",
       "      <th>DER_mass_vis</th>\n",
       "      <th>DER_pt_h</th>\n",
       "      <th>DER_deltaeta_jet_jet</th>\n",
       "      <th>DER_mass_jet_jet</th>\n",
       "      <th>DER_prodeta_jet_jet</th>\n",
       "      <th>DER_deltar_tau_lep</th>\n",
       "      <th>DER_pt_tot</th>\n",
       "      <th>DER_sum_pt</th>\n",
       "      <th>...</th>\n",
       "      <th>PRI_met_sumet</th>\n",
       "      <th>PRI_jet_num</th>\n",
       "      <th>PRI_jet_leading_pt</th>\n",
       "      <th>PRI_jet_leading_eta</th>\n",
       "      <th>PRI_jet_leading_phi</th>\n",
       "      <th>PRI_jet_subleading_pt</th>\n",
       "      <th>PRI_jet_subleading_eta</th>\n",
       "      <th>PRI_jet_subleading_phi</th>\n",
       "      <th>PRI_jet_all_pt</th>\n",
       "      <th>Predictions</th>\n",
       "    </tr>\n",
       "  </thead>\n",
       "  <tbody>\n",
       "    <tr>\n",
       "      <th>100000</th>\n",
       "      <td>138.470</td>\n",
       "      <td>51.655</td>\n",
       "      <td>97.827</td>\n",
       "      <td>27.980</td>\n",
       "      <td>0.910</td>\n",
       "      <td>124.711</td>\n",
       "      <td>2.666</td>\n",
       "      <td>3.064</td>\n",
       "      <td>41.928</td>\n",
       "      <td>197.760</td>\n",
       "      <td>...</td>\n",
       "      <td>258.733</td>\n",
       "      <td>2.0</td>\n",
       "      <td>67.435</td>\n",
       "      <td>2.150</td>\n",
       "      <td>0.444</td>\n",
       "      <td>46.062</td>\n",
       "      <td>1.240</td>\n",
       "      <td>-2.475</td>\n",
       "      <td>113.497</td>\n",
       "      <td>1</td>\n",
       "    </tr>\n",
       "    <tr>\n",
       "      <th>100001</th>\n",
       "      <td>160.937</td>\n",
       "      <td>68.768</td>\n",
       "      <td>103.235</td>\n",
       "      <td>48.146</td>\n",
       "      <td>NaN</td>\n",
       "      <td>NaN</td>\n",
       "      <td>NaN</td>\n",
       "      <td>3.473</td>\n",
       "      <td>2.078</td>\n",
       "      <td>125.157</td>\n",
       "      <td>...</td>\n",
       "      <td>164.546</td>\n",
       "      <td>1.0</td>\n",
       "      <td>46.226</td>\n",
       "      <td>0.725</td>\n",
       "      <td>1.158</td>\n",
       "      <td>NaN</td>\n",
       "      <td>NaN</td>\n",
       "      <td>NaN</td>\n",
       "      <td>46.226</td>\n",
       "      <td>0</td>\n",
       "    </tr>\n",
       "    <tr>\n",
       "      <th>100002</th>\n",
       "      <td>NaN</td>\n",
       "      <td>162.172</td>\n",
       "      <td>125.953</td>\n",
       "      <td>35.635</td>\n",
       "      <td>NaN</td>\n",
       "      <td>NaN</td>\n",
       "      <td>NaN</td>\n",
       "      <td>3.148</td>\n",
       "      <td>9.336</td>\n",
       "      <td>197.814</td>\n",
       "      <td>...</td>\n",
       "      <td>260.414</td>\n",
       "      <td>1.0</td>\n",
       "      <td>44.251</td>\n",
       "      <td>2.053</td>\n",
       "      <td>-2.028</td>\n",
       "      <td>NaN</td>\n",
       "      <td>NaN</td>\n",
       "      <td>NaN</td>\n",
       "      <td>44.251</td>\n",
       "      <td>0</td>\n",
       "    </tr>\n",
       "    <tr>\n",
       "      <th>100003</th>\n",
       "      <td>143.905</td>\n",
       "      <td>81.417</td>\n",
       "      <td>80.943</td>\n",
       "      <td>0.414</td>\n",
       "      <td>NaN</td>\n",
       "      <td>NaN</td>\n",
       "      <td>NaN</td>\n",
       "      <td>3.310</td>\n",
       "      <td>0.414</td>\n",
       "      <td>75.968</td>\n",
       "      <td>...</td>\n",
       "      <td>86.062</td>\n",
       "      <td>0.0</td>\n",
       "      <td>NaN</td>\n",
       "      <td>NaN</td>\n",
       "      <td>NaN</td>\n",
       "      <td>NaN</td>\n",
       "      <td>NaN</td>\n",
       "      <td>NaN</td>\n",
       "      <td>0.000</td>\n",
       "      <td>0</td>\n",
       "    </tr>\n",
       "    <tr>\n",
       "      <th>100004</th>\n",
       "      <td>175.864</td>\n",
       "      <td>16.915</td>\n",
       "      <td>134.805</td>\n",
       "      <td>16.405</td>\n",
       "      <td>NaN</td>\n",
       "      <td>NaN</td>\n",
       "      <td>NaN</td>\n",
       "      <td>3.891</td>\n",
       "      <td>16.405</td>\n",
       "      <td>57.983</td>\n",
       "      <td>...</td>\n",
       "      <td>53.131</td>\n",
       "      <td>0.0</td>\n",
       "      <td>NaN</td>\n",
       "      <td>NaN</td>\n",
       "      <td>NaN</td>\n",
       "      <td>NaN</td>\n",
       "      <td>NaN</td>\n",
       "      <td>NaN</td>\n",
       "      <td>0.000</td>\n",
       "      <td>0</td>\n",
       "    </tr>\n",
       "    <tr>\n",
       "      <th>100005</th>\n",
       "      <td>89.744</td>\n",
       "      <td>13.550</td>\n",
       "      <td>59.149</td>\n",
       "      <td>116.344</td>\n",
       "      <td>2.636</td>\n",
       "      <td>284.584</td>\n",
       "      <td>-0.540</td>\n",
       "      <td>1.362</td>\n",
       "      <td>61.619</td>\n",
       "      <td>278.876</td>\n",
       "      <td>...</td>\n",
       "      <td>282.849</td>\n",
       "      <td>3.0</td>\n",
       "      <td>90.547</td>\n",
       "      <td>-2.412</td>\n",
       "      <td>-0.653</td>\n",
       "      <td>56.165</td>\n",
       "      <td>0.224</td>\n",
       "      <td>3.106</td>\n",
       "      <td>193.660</td>\n",
       "      <td>0</td>\n",
       "    </tr>\n",
       "    <tr>\n",
       "      <th>100006</th>\n",
       "      <td>148.754</td>\n",
       "      <td>28.862</td>\n",
       "      <td>107.782</td>\n",
       "      <td>106.130</td>\n",
       "      <td>0.733</td>\n",
       "      <td>158.359</td>\n",
       "      <td>0.113</td>\n",
       "      <td>2.941</td>\n",
       "      <td>2.545</td>\n",
       "      <td>305.967</td>\n",
       "      <td>...</td>\n",
       "      <td>294.074</td>\n",
       "      <td>2.0</td>\n",
       "      <td>123.010</td>\n",
       "      <td>0.864</td>\n",
       "      <td>1.450</td>\n",
       "      <td>56.867</td>\n",
       "      <td>0.131</td>\n",
       "      <td>-2.767</td>\n",
       "      <td>179.877</td>\n",
       "      <td>1</td>\n",
       "    </tr>\n",
       "    <tr>\n",
       "      <th>100007</th>\n",
       "      <td>154.916</td>\n",
       "      <td>10.418</td>\n",
       "      <td>94.714</td>\n",
       "      <td>29.169</td>\n",
       "      <td>NaN</td>\n",
       "      <td>NaN</td>\n",
       "      <td>NaN</td>\n",
       "      <td>2.897</td>\n",
       "      <td>1.526</td>\n",
       "      <td>138.178</td>\n",
       "      <td>...</td>\n",
       "      <td>187.299</td>\n",
       "      <td>1.0</td>\n",
       "      <td>30.638</td>\n",
       "      <td>-0.715</td>\n",
       "      <td>-1.724</td>\n",
       "      <td>NaN</td>\n",
       "      <td>NaN</td>\n",
       "      <td>NaN</td>\n",
       "      <td>30.638</td>\n",
       "      <td>1</td>\n",
       "    </tr>\n",
       "    <tr>\n",
       "      <th>100008</th>\n",
       "      <td>105.594</td>\n",
       "      <td>50.559</td>\n",
       "      <td>100.989</td>\n",
       "      <td>4.288</td>\n",
       "      <td>NaN</td>\n",
       "      <td>NaN</td>\n",
       "      <td>NaN</td>\n",
       "      <td>2.904</td>\n",
       "      <td>4.288</td>\n",
       "      <td>65.333</td>\n",
       "      <td>...</td>\n",
       "      <td>129.804</td>\n",
       "      <td>0.0</td>\n",
       "      <td>NaN</td>\n",
       "      <td>NaN</td>\n",
       "      <td>NaN</td>\n",
       "      <td>NaN</td>\n",
       "      <td>NaN</td>\n",
       "      <td>NaN</td>\n",
       "      <td>0.000</td>\n",
       "      <td>0</td>\n",
       "    </tr>\n",
       "    <tr>\n",
       "      <th>100009</th>\n",
       "      <td>128.053</td>\n",
       "      <td>88.941</td>\n",
       "      <td>69.272</td>\n",
       "      <td>193.392</td>\n",
       "      <td>NaN</td>\n",
       "      <td>NaN</td>\n",
       "      <td>NaN</td>\n",
       "      <td>1.609</td>\n",
       "      <td>28.859</td>\n",
       "      <td>255.123</td>\n",
       "      <td>...</td>\n",
       "      <td>294.741</td>\n",
       "      <td>1.0</td>\n",
       "      <td>167.735</td>\n",
       "      <td>-2.767</td>\n",
       "      <td>-2.514</td>\n",
       "      <td>NaN</td>\n",
       "      <td>NaN</td>\n",
       "      <td>NaN</td>\n",
       "      <td>167.735</td>\n",
       "      <td>1</td>\n",
       "    </tr>\n",
       "  </tbody>\n",
       "</table>\n",
       "<p>10 rows × 31 columns</p>\n",
       "</div>"
      ],
      "text/plain": [
       "        DER_mass_MMC  DER_mass_transverse_met_lep  DER_mass_vis  DER_pt_h  \\\n",
       "100000       138.470                       51.655        97.827    27.980   \n",
       "100001       160.937                       68.768       103.235    48.146   \n",
       "100002           NaN                      162.172       125.953    35.635   \n",
       "100003       143.905                       81.417        80.943     0.414   \n",
       "100004       175.864                       16.915       134.805    16.405   \n",
       "100005        89.744                       13.550        59.149   116.344   \n",
       "100006       148.754                       28.862       107.782   106.130   \n",
       "100007       154.916                       10.418        94.714    29.169   \n",
       "100008       105.594                       50.559       100.989     4.288   \n",
       "100009       128.053                       88.941        69.272   193.392   \n",
       "\n",
       "        DER_deltaeta_jet_jet  DER_mass_jet_jet  DER_prodeta_jet_jet  \\\n",
       "100000                 0.910           124.711                2.666   \n",
       "100001                   NaN               NaN                  NaN   \n",
       "100002                   NaN               NaN                  NaN   \n",
       "100003                   NaN               NaN                  NaN   \n",
       "100004                   NaN               NaN                  NaN   \n",
       "100005                 2.636           284.584               -0.540   \n",
       "100006                 0.733           158.359                0.113   \n",
       "100007                   NaN               NaN                  NaN   \n",
       "100008                   NaN               NaN                  NaN   \n",
       "100009                   NaN               NaN                  NaN   \n",
       "\n",
       "        DER_deltar_tau_lep  DER_pt_tot  DER_sum_pt  ...  PRI_met_sumet  \\\n",
       "100000               3.064      41.928     197.760  ...        258.733   \n",
       "100001               3.473       2.078     125.157  ...        164.546   \n",
       "100002               3.148       9.336     197.814  ...        260.414   \n",
       "100003               3.310       0.414      75.968  ...         86.062   \n",
       "100004               3.891      16.405      57.983  ...         53.131   \n",
       "100005               1.362      61.619     278.876  ...        282.849   \n",
       "100006               2.941       2.545     305.967  ...        294.074   \n",
       "100007               2.897       1.526     138.178  ...        187.299   \n",
       "100008               2.904       4.288      65.333  ...        129.804   \n",
       "100009               1.609      28.859     255.123  ...        294.741   \n",
       "\n",
       "        PRI_jet_num  PRI_jet_leading_pt  PRI_jet_leading_eta  \\\n",
       "100000          2.0              67.435                2.150   \n",
       "100001          1.0              46.226                0.725   \n",
       "100002          1.0              44.251                2.053   \n",
       "100003          0.0                 NaN                  NaN   \n",
       "100004          0.0                 NaN                  NaN   \n",
       "100005          3.0              90.547               -2.412   \n",
       "100006          2.0             123.010                0.864   \n",
       "100007          1.0              30.638               -0.715   \n",
       "100008          0.0                 NaN                  NaN   \n",
       "100009          1.0             167.735               -2.767   \n",
       "\n",
       "        PRI_jet_leading_phi  PRI_jet_subleading_pt  PRI_jet_subleading_eta  \\\n",
       "100000                0.444                 46.062                   1.240   \n",
       "100001                1.158                    NaN                     NaN   \n",
       "100002               -2.028                    NaN                     NaN   \n",
       "100003                  NaN                    NaN                     NaN   \n",
       "100004                  NaN                    NaN                     NaN   \n",
       "100005               -0.653                 56.165                   0.224   \n",
       "100006                1.450                 56.867                   0.131   \n",
       "100007               -1.724                    NaN                     NaN   \n",
       "100008                  NaN                    NaN                     NaN   \n",
       "100009               -2.514                    NaN                     NaN   \n",
       "\n",
       "        PRI_jet_subleading_phi  PRI_jet_all_pt  Predictions  \n",
       "100000                  -2.475         113.497            1  \n",
       "100001                     NaN          46.226            0  \n",
       "100002                     NaN          44.251            0  \n",
       "100003                     NaN           0.000            0  \n",
       "100004                     NaN           0.000            0  \n",
       "100005                   3.106         193.660            0  \n",
       "100006                  -2.767         179.877            1  \n",
       "100007                     NaN          30.638            1  \n",
       "100008                     NaN           0.000            0  \n",
       "100009                     NaN         167.735            1  \n",
       "\n",
       "[10 rows x 31 columns]"
      ]
     },
     "execution_count": 8,
     "metadata": {},
     "output_type": "execute_result"
    }
   ],
   "source": [
    "df_NaN = df_pred.replace(-999, np.NaN)\n",
    "df_NaN.head(10)"
   ]
  },
  {
   "cell_type": "code",
   "execution_count": 9,
   "metadata": {},
   "outputs": [],
   "source": [
    "jet_zero = df_NaN[df_NaN['PRI_jet_num'] == 0.0]\n",
    "jet_one = df_NaN[df_NaN['PRI_jet_num'] == 1.0]\n",
    "jet_two = df_NaN[df_NaN['PRI_jet_num'] == 2.0]\n",
    "jet_three = df_NaN[df_NaN['PRI_jet_num'] == 3.0]"
   ]
  },
  {
   "cell_type": "code",
   "execution_count": 10,
   "metadata": {},
   "outputs": [],
   "source": [
    "def drop_nan(x):\n",
    "    \n",
    "    drop = []\n",
    "    for column in x:\n",
    "        nan_percent = (x[column].isna().sum() / x[column].shape[0]) * 100\n",
    "        \n",
    "        if nan_percent > 0:\n",
    "            print(column, ':' ,nan_percent)\n",
    "\n",
    "        if nan_percent > 70:\n",
    "            drop.append(column)\n",
    "\n",
    "    x_d = x.drop(drop, axis = 1)\n",
    "    x_n = x_d.fillna(x_d.mean(), inplace=True)\n",
    "\n",
    "    return x_d        "
   ]
  },
  {
   "cell_type": "code",
   "execution_count": 11,
   "metadata": {},
   "outputs": [],
   "source": [
    "def drop_low_var(x):\n",
    "    print(x.var())\n",
    "    \n",
    "    drop = []\n",
    "    for column in x:\n",
    "        if x[column].var() < 10.0:\n",
    "            drop.append(column)\n",
    "\n",
    "    return x.drop(drop, axis = 1)"
   ]
  },
  {
   "cell_type": "code",
   "execution_count": 12,
   "metadata": {},
   "outputs": [
    {
     "name": "stdout",
     "output_type": "stream",
     "text": [
      "DER_mass_MMC : 26.145746799715752\n",
      "DER_deltaeta_jet_jet : 100.0\n",
      "DER_mass_jet_jet : 100.0\n",
      "DER_prodeta_jet_jet : 100.0\n",
      "DER_lep_eta_centrality : 100.0\n",
      "PRI_jet_leading_pt : 100.0\n",
      "PRI_jet_leading_eta : 100.0\n",
      "PRI_jet_leading_phi : 100.0\n",
      "PRI_jet_subleading_pt : 100.0\n",
      "PRI_jet_subleading_eta : 100.0\n",
      "PRI_jet_subleading_phi : 100.0\n"
     ]
    }
   ],
   "source": [
    "jet_zero_nonan = drop_nan(jet_zero)\n",
    "jet_zero_pred = jet_zero_nonan['Predictions']"
   ]
  },
  {
   "cell_type": "code",
   "execution_count": 13,
   "metadata": {},
   "outputs": [
    {
     "name": "stdout",
     "output_type": "stream",
     "text": [
      "DER_mass_MMC                   1977.860756\n",
      "DER_mass_transverse_met_lep    1024.227287\n",
      "DER_mass_vis                   1447.320770\n",
      "DER_pt_h                        278.045852\n",
      "DER_deltar_tau_lep                0.480658\n",
      "DER_pt_tot                      278.045851\n",
      "DER_sum_pt                      555.123393\n",
      "DER_pt_ratio_lep_tau              0.338254\n",
      "DER_met_phi_centrality            0.877419\n",
      "PRI_tau_pt                      231.938904\n",
      "PRI_tau_eta                       1.521351\n",
      "PRI_tau_phi                       3.302766\n",
      "PRI_lep_pt                      212.750782\n",
      "PRI_lep_eta                       1.718341\n",
      "PRI_lep_phi                       3.304556\n",
      "PRI_met                         411.868379\n",
      "PRI_met_phi                       3.279745\n",
      "PRI_met_sumet                  2818.187106\n",
      "PRI_jet_num                       0.000000\n",
      "PRI_jet_all_pt                    0.000000\n",
      "Predictions                       0.190046\n",
      "dtype: float64\n"
     ]
    }
   ],
   "source": [
    "jet_zero_no_var = drop_low_var(jet_zero_nonan)"
   ]
  },
  {
   "cell_type": "code",
   "execution_count": 14,
   "metadata": {},
   "outputs": [
    {
     "name": "stdout",
     "output_type": "stream",
     "text": [
      "DER_mass_MMC : 9.751882802022077\n",
      "DER_deltaeta_jet_jet : 100.0\n",
      "DER_mass_jet_jet : 100.0\n",
      "DER_prodeta_jet_jet : 100.0\n",
      "DER_lep_eta_centrality : 100.0\n",
      "PRI_jet_subleading_pt : 100.0\n",
      "PRI_jet_subleading_eta : 100.0\n",
      "PRI_jet_subleading_phi : 100.0\n"
     ]
    }
   ],
   "source": [
    "jet_one_nonan = drop_nan(jet_one)\n",
    "jet_one_pred = jet_one_nonan['Predictions']"
   ]
  },
  {
   "cell_type": "code",
   "execution_count": 15,
   "metadata": {},
   "outputs": [
    {
     "name": "stdout",
     "output_type": "stream",
     "text": [
      "DER_mass_MMC                   3178.371866\n",
      "DER_mass_transverse_met_lep    1266.021073\n",
      "DER_mass_vis                   1788.285272\n",
      "DER_pt_h                       2249.700418\n",
      "DER_deltar_tau_lep                0.544102\n",
      "DER_pt_tot                      289.269483\n",
      "DER_sum_pt                     4248.704462\n",
      "DER_pt_ratio_lep_tau              0.716436\n",
      "DER_met_phi_centrality            1.223988\n",
      "PRI_tau_pt                      441.239441\n",
      "PRI_tau_eta                       1.484000\n",
      "PRI_tau_phi                       3.292265\n",
      "PRI_lep_pt                      455.205799\n",
      "PRI_lep_eta                       1.593185\n",
      "PRI_lep_phi                       3.295879\n",
      "PRI_met                         804.137831\n",
      "PRI_met_phi                       3.283115\n",
      "PRI_met_sumet                  6707.796889\n",
      "PRI_jet_num                       0.000000\n",
      "PRI_jet_leading_pt             2038.929763\n",
      "PRI_jet_leading_eta               3.318200\n",
      "PRI_jet_leading_phi               3.303410\n",
      "PRI_jet_all_pt                 2038.929765\n",
      "Predictions                       0.229653\n",
      "dtype: float64\n"
     ]
    }
   ],
   "source": [
    "jet_one_no_var = drop_low_var(jet_one_nonan)"
   ]
  },
  {
   "cell_type": "code",
   "execution_count": 16,
   "metadata": {},
   "outputs": [
    {
     "name": "stdout",
     "output_type": "stream",
     "text": [
      "DER_mass_MMC : 5.859584350622283\n"
     ]
    }
   ],
   "source": [
    "jet_two_nonan = drop_nan(jet_two)\n",
    "jet_two_pred = jet_two_nonan['Predictions']\n"
   ]
  },
  {
   "cell_type": "code",
   "execution_count": 17,
   "metadata": {},
   "outputs": [
    {
     "name": "stdout",
     "output_type": "stream",
     "text": [
      "DER_mass_MMC                     2925.900504\n",
      "DER_mass_transverse_met_lep      1244.251095\n",
      "DER_mass_vis                     1593.377089\n",
      "DER_pt_h                         4974.379968\n",
      "DER_deltaeta_jet_jet                3.285597\n",
      "DER_mass_jet_jet               182202.986695\n",
      "DER_prodeta_jet_jet                14.600593\n",
      "DER_deltar_tau_lep                  0.576619\n",
      "DER_pt_tot                        416.555105\n",
      "DER_sum_pt                      10273.234535\n",
      "DER_pt_ratio_lep_tau                1.069975\n",
      "DER_met_phi_centrality              0.956967\n",
      "DER_lep_eta_centrality              0.158858\n",
      "PRI_tau_pt                        783.108472\n",
      "PRI_tau_eta                         1.374030\n",
      "PRI_tau_phi                         3.297273\n",
      "PRI_lep_pt                        722.642985\n",
      "PRI_lep_eta                         1.424738\n",
      "PRI_lep_phi                         3.295430\n",
      "PRI_met                          1618.506132\n",
      "PRI_met_phi                         3.293661\n",
      "PRI_met_sumet                   12428.636591\n",
      "PRI_jet_num                         0.000000\n",
      "PRI_jet_leading_pt               3827.523116\n",
      "PRI_jet_leading_eta                 3.291147\n",
      "PRI_jet_leading_phi                 3.275804\n",
      "PRI_jet_subleading_pt             648.215077\n",
      "PRI_jet_subleading_eta              4.557468\n",
      "PRI_jet_subleading_phi              3.304641\n",
      "PRI_jet_all_pt                   6028.940017\n",
      "Predictions                         0.249888\n",
      "dtype: float64\n"
     ]
    }
   ],
   "source": [
    "jet_two_no_var = drop_low_var(jet_two_nonan)"
   ]
  },
  {
   "cell_type": "code",
   "execution_count": 18,
   "metadata": {},
   "outputs": [
    {
     "name": "stdout",
     "output_type": "stream",
     "text": [
      "DER_mass_MMC : 6.663959574084101\n"
     ]
    }
   ],
   "source": [
    "jet_three_nonan = drop_nan(jet_three)\n",
    "jet_three_pred = jet_three_nonan['Predictions']\n"
   ]
  },
  {
   "cell_type": "code",
   "execution_count": 19,
   "metadata": {},
   "outputs": [
    {
     "name": "stdout",
     "output_type": "stream",
     "text": [
      "DER_mass_MMC                     4691.739341\n",
      "DER_mass_transverse_met_lep      1449.708546\n",
      "DER_mass_vis                     2380.549880\n",
      "DER_pt_h                         7026.104022\n",
      "DER_deltaeta_jet_jet                2.160682\n",
      "DER_mass_jet_jet               100666.499708\n",
      "DER_prodeta_jet_jet                 8.221607\n",
      "DER_deltar_tau_lep                  0.684359\n",
      "DER_pt_tot                       1043.239090\n",
      "DER_sum_pt                      22541.534001\n",
      "DER_pt_ratio_lep_tau                1.555411\n",
      "DER_met_phi_centrality              0.889925\n",
      "DER_lep_eta_centrality              0.150262\n",
      "PRI_tau_pt                       1051.759386\n",
      "PRI_tau_eta                         1.451391\n",
      "PRI_tau_phi                         3.327540\n",
      "PRI_lep_pt                       1086.794775\n",
      "PRI_lep_eta                         1.482754\n",
      "PRI_lep_phi                         3.305491\n",
      "PRI_met                          2469.931939\n",
      "PRI_met_phi                         3.284730\n",
      "PRI_met_sumet                   25226.661735\n",
      "PRI_jet_num                         0.000000\n",
      "PRI_jet_leading_pt               5823.789336\n",
      "PRI_jet_leading_eta                 2.475158\n",
      "PRI_jet_leading_phi                 3.264432\n",
      "PRI_jet_subleading_pt            1610.122257\n",
      "PRI_jet_subleading_eta              3.151881\n",
      "PRI_jet_subleading_phi              3.293432\n",
      "PRI_jet_all_pt                  16500.490305\n",
      "Predictions                         0.211472\n",
      "dtype: float64\n"
     ]
    }
   ],
   "source": [
    "jet_three_no_var = drop_low_var(jet_three_nonan)"
   ]
  },
  {
   "cell_type": "code",
   "execution_count": 22,
   "metadata": {},
   "outputs": [
    {
     "ename": "KeyError",
     "evalue": "0",
     "output_type": "error",
     "traceback": [
      "\u001b[0;31m---------------------------------------------------------------------------\u001b[0m",
      "\u001b[0;31mKeyError\u001b[0m                                  Traceback (most recent call last)",
      "File \u001b[0;32m~/opt/anaconda3/envs/preprocessing/lib/python3.10/site-packages/pandas/core/indexes/base.py:3629\u001b[0m, in \u001b[0;36mIndex.get_loc\u001b[0;34m(self, key, method, tolerance)\u001b[0m\n\u001b[1;32m   3628\u001b[0m \u001b[39mtry\u001b[39;00m:\n\u001b[0;32m-> 3629\u001b[0m     \u001b[39mreturn\u001b[39;00m \u001b[39mself\u001b[39;49m\u001b[39m.\u001b[39;49m_engine\u001b[39m.\u001b[39;49mget_loc(casted_key)\n\u001b[1;32m   3630\u001b[0m \u001b[39mexcept\u001b[39;00m \u001b[39mKeyError\u001b[39;00m \u001b[39mas\u001b[39;00m err:\n",
      "File \u001b[0;32m~/opt/anaconda3/envs/preprocessing/lib/python3.10/site-packages/pandas/_libs/index.pyx:136\u001b[0m, in \u001b[0;36mpandas._libs.index.IndexEngine.get_loc\u001b[0;34m()\u001b[0m\n",
      "File \u001b[0;32m~/opt/anaconda3/envs/preprocessing/lib/python3.10/site-packages/pandas/_libs/index.pyx:163\u001b[0m, in \u001b[0;36mpandas._libs.index.IndexEngine.get_loc\u001b[0;34m()\u001b[0m\n",
      "File \u001b[0;32mpandas/_libs/hashtable_class_helper.pxi:5198\u001b[0m, in \u001b[0;36mpandas._libs.hashtable.PyObjectHashTable.get_item\u001b[0;34m()\u001b[0m\n",
      "File \u001b[0;32mpandas/_libs/hashtable_class_helper.pxi:5206\u001b[0m, in \u001b[0;36mpandas._libs.hashtable.PyObjectHashTable.get_item\u001b[0;34m()\u001b[0m\n",
      "\u001b[0;31mKeyError\u001b[0m: 0",
      "\nThe above exception was the direct cause of the following exception:\n",
      "\u001b[0;31mKeyError\u001b[0m                                  Traceback (most recent call last)",
      "\u001b[1;32m/Volumes/External SSD/ML-Higgs-EPFL/src/preprocessing.ipynb Cell 17\u001b[0m in \u001b[0;36m<cell line: 1>\u001b[0;34m()\u001b[0m\n\u001b[1;32m      <a href='vscode-notebook-cell:/Volumes/External%20SSD/ML-Higgs-EPFL/src/preprocessing.ipynb#X36sZmlsZQ%3D%3D?line=0'>1</a>\u001b[0m \u001b[39mfor\u001b[39;00m k \u001b[39min\u001b[39;00m \u001b[39mrange\u001b[39m(jet_zero_no_var\u001b[39m.\u001b[39mshape[\u001b[39m0\u001b[39m]):\n\u001b[0;32m----> <a href='vscode-notebook-cell:/Volumes/External%20SSD/ML-Higgs-EPFL/src/preprocessing.ipynb#X36sZmlsZQ%3D%3D?line=1'>2</a>\u001b[0m     x_0_poly \u001b[39m=\u001b[39m build_poly(jet_zero_no_var[k], \u001b[39m6\u001b[39m)\n",
      "File \u001b[0;32m~/opt/anaconda3/envs/preprocessing/lib/python3.10/site-packages/pandas/core/frame.py:3505\u001b[0m, in \u001b[0;36mDataFrame.__getitem__\u001b[0;34m(self, key)\u001b[0m\n\u001b[1;32m   3503\u001b[0m \u001b[39mif\u001b[39;00m \u001b[39mself\u001b[39m\u001b[39m.\u001b[39mcolumns\u001b[39m.\u001b[39mnlevels \u001b[39m>\u001b[39m \u001b[39m1\u001b[39m:\n\u001b[1;32m   3504\u001b[0m     \u001b[39mreturn\u001b[39;00m \u001b[39mself\u001b[39m\u001b[39m.\u001b[39m_getitem_multilevel(key)\n\u001b[0;32m-> 3505\u001b[0m indexer \u001b[39m=\u001b[39m \u001b[39mself\u001b[39;49m\u001b[39m.\u001b[39;49mcolumns\u001b[39m.\u001b[39;49mget_loc(key)\n\u001b[1;32m   3506\u001b[0m \u001b[39mif\u001b[39;00m is_integer(indexer):\n\u001b[1;32m   3507\u001b[0m     indexer \u001b[39m=\u001b[39m [indexer]\n",
      "File \u001b[0;32m~/opt/anaconda3/envs/preprocessing/lib/python3.10/site-packages/pandas/core/indexes/base.py:3631\u001b[0m, in \u001b[0;36mIndex.get_loc\u001b[0;34m(self, key, method, tolerance)\u001b[0m\n\u001b[1;32m   3629\u001b[0m     \u001b[39mreturn\u001b[39;00m \u001b[39mself\u001b[39m\u001b[39m.\u001b[39m_engine\u001b[39m.\u001b[39mget_loc(casted_key)\n\u001b[1;32m   3630\u001b[0m \u001b[39mexcept\u001b[39;00m \u001b[39mKeyError\u001b[39;00m \u001b[39mas\u001b[39;00m err:\n\u001b[0;32m-> 3631\u001b[0m     \u001b[39mraise\u001b[39;00m \u001b[39mKeyError\u001b[39;00m(key) \u001b[39mfrom\u001b[39;00m \u001b[39merr\u001b[39;00m\n\u001b[1;32m   3632\u001b[0m \u001b[39mexcept\u001b[39;00m \u001b[39mTypeError\u001b[39;00m:\n\u001b[1;32m   3633\u001b[0m     \u001b[39m# If we have a listlike key, _check_indexing_error will raise\u001b[39;00m\n\u001b[1;32m   3634\u001b[0m     \u001b[39m#  InvalidIndexError. Otherwise we fall through and re-raise\u001b[39;00m\n\u001b[1;32m   3635\u001b[0m     \u001b[39m#  the TypeError.\u001b[39;00m\n\u001b[1;32m   3636\u001b[0m     \u001b[39mself\u001b[39m\u001b[39m.\u001b[39m_check_indexing_error(key)\n",
      "\u001b[0;31mKeyError\u001b[0m: 0"
     ]
    }
   ],
   "source": [
    "for k in range(jet_zero_no_var.shape[0]):\n",
    "    x_0_poly = build_poly(jet_zero_no_var[k], 6)\n",
    "    \n",
    "    \n",
    "    \n",
    "    \n",
    "    #x_1_poly = build_poly(jet_one_no_var, 6)\n",
    "    #x_2_poly = build_poly(jet_two_no_var, 6)\n",
    "    #x_3_poly = build_poly(jet_two_no_var, 6)"
   ]
  },
  {
   "cell_type": "code",
   "execution_count": 20,
   "metadata": {},
   "outputs": [],
   "source": [
    "def ridge_demo(x, pred, lambda_):\n",
    "    df = x.to_numpy()\n",
    "    w = ridge_regression(pred, df, lambda_)\n",
    "\n",
    "    return w"
   ]
  },
  {
   "cell_type": "code",
   "execution_count": 41,
   "metadata": {},
   "outputs": [],
   "source": [
    "Lambda = 0.10010010010010717\n",
    "w_zero = ridge_demo(jet_zero_no_var, jet_zero_pred, Lambda)\n",
    "\n",
    "w_one = ridge_demo(jet_one_no_var, jet_one_pred, Lambda)\n",
    "\n",
    "w_two = ridge_demo(jet_two_no_var, jet_two_pred, Lambda)\n",
    " \n",
    "w_three = ridge_demo(jet_three_no_var, jet_three_pred, Lambda)"
   ]
  },
  {
   "cell_type": "code",
   "execution_count": 85,
   "metadata": {},
   "outputs": [],
   "source": [
    "ids_t, predictions_t, data_t, features_t = get_test_higgs_data()\n",
    "df_t = pd.DataFrame(index=ids_t.flatten(), data=data_t, columns=features_t.flatten())\n",
    "df_t = df_t.replace(-999, np.NaN)"
   ]
  },
  {
   "cell_type": "code",
   "execution_count": 87,
   "metadata": {},
   "outputs": [],
   "source": [
    "jet_zero_t = df_t[df_t['PRI_jet_num'] == 0.0]\n",
    "jet_one_t = df_t[df_t['PRI_jet_num'] == 1.0]\n",
    "jet_two_t = df_t[df_t['PRI_jet_num'] == 2.0]\n",
    "jet_three_t = df_t[df_t['PRI_jet_num'] == 3.0]"
   ]
  },
  {
   "cell_type": "code",
   "execution_count": 3,
   "metadata": {},
   "outputs": [
    {
     "ename": "NameError",
     "evalue": "name 'drop_nan' is not defined",
     "output_type": "error",
     "traceback": [
      "\u001b[0;31m---------------------------------------------------------------------------\u001b[0m",
      "\u001b[0;31mNameError\u001b[0m                                 Traceback (most recent call last)",
      "\u001b[1;32m/Volumes/External SSD/ML-Higgs-EPFL/src/preprocessing.ipynb Cell 21\u001b[0m in \u001b[0;36m<cell line: 1>\u001b[0;34m()\u001b[0m\n\u001b[0;32m----> <a href='vscode-notebook-cell:/Volumes/External%20SSD/ML-Higgs-EPFL/src/preprocessing.ipynb#X26sZmlsZQ%3D%3D?line=0'>1</a>\u001b[0m jet_zero_nonan_t \u001b[39m=\u001b[39m drop_nan(jet_zero_t)\n\u001b[1;32m      <a href='vscode-notebook-cell:/Volumes/External%20SSD/ML-Higgs-EPFL/src/preprocessing.ipynb#X26sZmlsZQ%3D%3D?line=1'>2</a>\u001b[0m jet_zero_no_var_t \u001b[39m=\u001b[39m drop_low_var(jet_zero_nonan_t)\n\u001b[1;32m      <a href='vscode-notebook-cell:/Volumes/External%20SSD/ML-Higgs-EPFL/src/preprocessing.ipynb#X26sZmlsZQ%3D%3D?line=3'>4</a>\u001b[0m jet_one_nonan_t \u001b[39m=\u001b[39m drop_nan(jet_one_t)\n",
      "\u001b[0;31mNameError\u001b[0m: name 'drop_nan' is not defined"
     ]
    }
   ],
   "source": [
    "jet_zero_nonan_t = drop_nan(jet_zero_t)\n",
    "jet_zero_no_var_t = drop_low_var(jet_zero_nonan_t)\n",
    "\n",
    "jet_one_nonan_t = drop_nan(jet_one_t)\n",
    "jet_one_no_var_t = drop_low_var(jet_one_nonan_t)\n",
    "\n",
    "jet_two_nonan_t = drop_nan(jet_two_t)\n",
    "jet_two_no_var_t = drop_low_var(jet_two_nonan_t)\n",
    "\n",
    "jet_three_nonan_t = drop_nan(jet_three_t)\n",
    "jet_three_no_var_t = drop_low_var(jet_three_nonan_t)"
   ]
  },
  {
   "cell_type": "code",
   "execution_count": 2,
   "metadata": {},
   "outputs": [
    {
     "ename": "NameError",
     "evalue": "name 'jet_zero_no_var_t' is not defined",
     "output_type": "error",
     "traceback": [
      "\u001b[0;31m---------------------------------------------------------------------------\u001b[0m",
      "\u001b[0;31mNameError\u001b[0m                                 Traceback (most recent call last)",
      "\u001b[1;32m/Volumes/External SSD/ML-Higgs-EPFL/src/preprocessing.ipynb Cell 22\u001b[0m in \u001b[0;36m<cell line: 1>\u001b[0;34m()\u001b[0m\n\u001b[0;32m----> <a href='vscode-notebook-cell:/Volumes/External%20SSD/ML-Higgs-EPFL/src/preprocessing.ipynb#X35sZmlsZQ%3D%3D?line=0'>1</a>\u001b[0m x_0_poly \u001b[39m=\u001b[39m build_poly(jet_zero_no_var_t, \u001b[39m6\u001b[39m)\n\u001b[1;32m      <a href='vscode-notebook-cell:/Volumes/External%20SSD/ML-Higgs-EPFL/src/preprocessing.ipynb#X35sZmlsZQ%3D%3D?line=1'>2</a>\u001b[0m x_1_poly \u001b[39m=\u001b[39m build_poly(jet_one_no_var_t, \u001b[39m6\u001b[39m)\n\u001b[1;32m      <a href='vscode-notebook-cell:/Volumes/External%20SSD/ML-Higgs-EPFL/src/preprocessing.ipynb#X35sZmlsZQ%3D%3D?line=2'>3</a>\u001b[0m x_2_poly \u001b[39m=\u001b[39m build_poly(jet_two_no_var_t, \u001b[39m6\u001b[39m)\n",
      "\u001b[0;31mNameError\u001b[0m: name 'jet_zero_no_var_t' is not defined"
     ]
    }
   ],
   "source": [
    "x_0_poly_t = build_poly(jet_zero_no_var_t, 6)\n",
    "x_1_poly_t = build_poly(jet_one_no_var_t, 6)\n",
    "x_2_poly_t = build_poly(jet_two_no_var_t, 6)\n",
    "x_3_poly_t = build_poly(jet_two_no_var_t, 6)"
   ]
  },
  {
   "cell_type": "code",
   "execution_count": 89,
   "metadata": {},
   "outputs": [],
   "source": [
    "#x_0 = jet_zero_no_var_t.to_numpy()\n",
    "#x_1 = jet_one_no_var_t.to_numpy()\n",
    "#x_2 = jet_two_no_var_t.to_numpy()\n",
    "#x_3 = jet_three_no_var_t.to_numpy()\n",
    "\n",
    "pred_0 = x_0 @ w_zero\n",
    "pred_1 = x_1 @ w_one\n",
    "pred_2 = x_2 @ w_two\n",
    "pred_3 = x_3 @ w_three\n",
    "\n",
    "pred_0[pred_0 < 0.5] = -1\n",
    "pred_0[pred_0 >= 0.5] = 1\n",
    "\n",
    "pred_1[pred_1 < 0.5] = -1\n",
    "pred_1[pred_1 >= 0.5] = 1\n",
    "\n",
    "pred_2[pred_2 < 0.5] = -1\n",
    "pred_2[pred_2 >= 0.5] = 1\n",
    "\n",
    "pred_3[pred_3 < 0.5] = -1\n",
    "pred_3[pred_3 >= 0.5] = 1"
   ]
  },
  {
   "cell_type": "code",
   "execution_count": 90,
   "metadata": {},
   "outputs": [],
   "source": [
    "preds_0 = pd.Series(pred_0)\n",
    "preds_1 = pd.Series(pred_1)\n",
    "preds_2 = pd.Series(pred_2)\n",
    "preds_3 = pd.Series(pred_3)\n",
    "\n",
    "preds_0.index = jet_zero_no_var_t.index\n",
    "preds_1.index = jet_one_no_var_t.index\n",
    "preds_2.index = jet_two_no_var_t.index\n",
    "preds_3.index = jet_three_no_var_t.index\n",
    "\n",
    "new_preds0 = pd.concat([jet_zero_no_var_t, preds_0], axis = 1)\n",
    "new_preds1 = pd.concat([jet_one_no_var_t, preds_1], axis = 1)\n",
    "new_preds2 = pd.concat([jet_two_no_var_t, preds_2], axis = 1)\n",
    "new_preds3 = pd.concat([jet_three_no_var_t, preds_3], axis = 1)"
   ]
  },
  {
   "cell_type": "code",
   "execution_count": 103,
   "metadata": {},
   "outputs": [
    {
     "data": {
      "text/plain": [
       "350000   -1.0\n",
       "350001   -1.0\n",
       "350002   -1.0\n",
       "350003    1.0\n",
       "350004   -1.0\n",
       "         ... \n",
       "918233   -1.0\n",
       "918234   -1.0\n",
       "918235    1.0\n",
       "918236   -1.0\n",
       "918237   -1.0\n",
       "Name: 0, Length: 568238, dtype: float64"
      ]
     },
     "execution_count": 103,
     "metadata": {},
     "output_type": "execute_result"
    }
   ],
   "source": [
    "preds = pd.concat([new_preds0[0], new_preds1[0], new_preds2[0], new_preds3[0]], axis = 0).sort_index()\n",
    "preds\n"
   ]
  },
  {
   "cell_type": "code",
   "execution_count": 104,
   "metadata": {},
   "outputs": [],
   "source": [
    "create_csv_submission(ids_t, preds, 'prediction_3_split')"
   ]
  },
  {
   "cell_type": "code",
   "execution_count": null,
   "metadata": {},
   "outputs": [],
   "source": []
  }
 ],
 "metadata": {
  "kernelspec": {
   "display_name": "Python 3.10.4 ('preprocessing')",
   "language": "python",
   "name": "python3"
  },
  "language_info": {
   "codemirror_mode": {
    "name": "ipython",
    "version": 3
   },
   "file_extension": ".py",
   "mimetype": "text/x-python",
   "name": "python",
   "nbconvert_exporter": "python",
   "pygments_lexer": "ipython3",
   "version": "3.10.4"
  },
  "orig_nbformat": 4,
  "vscode": {
   "interpreter": {
    "hash": "a68e92f65f68169dc5f369cba83c8ddd919e7e9c17bd6e8fa314ba31a4920aed"
   }
  }
 },
 "nbformat": 4,
 "nbformat_minor": 2
}
